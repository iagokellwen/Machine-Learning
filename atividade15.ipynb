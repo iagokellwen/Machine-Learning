{
 "cells": [
  {
   "cell_type": "markdown",
   "metadata": {},
   "source": [
    "15.\tCriação de um Pipeline de Machine Learning\n",
    "o\tCrie um pipeline de machine learning que inclua pré-processamento, PCA, e um modelo de classificação. Utilize a biblioteca Scikit-Learn e avalie a performance do pipeline com validação cruzada.\n"
   ]
  },
  {
   "cell_type": "code",
   "execution_count": 2,
   "metadata": {},
   "outputs": [],
   "source": [
    "import numpy as np\n",
    "import pandas as pd\n",
    "from sklearn.datasets import load_iris\n",
    "from sklearn.model_selection import cross_val_score\n",
    "from sklearn.decomposition import PCA\n",
    "from sklearn.preprocessing import StandardScaler\n",
    "from sklearn.pipeline import Pipeline\n",
    "from sklearn.tree import DecisionTreeClassifier"
   ]
  },
  {
   "cell_type": "code",
   "execution_count": 3,
   "metadata": {},
   "outputs": [],
   "source": [
    "# 1. Carregar o conjunto de dados Iris\n",
    "iris = load_iris()\n",
    "X = iris.data\n",
    "y = iris.target"
   ]
  },
  {
   "cell_type": "code",
   "execution_count": 5,
   "metadata": {},
   "outputs": [],
   "source": [
    "# 2. Criar o pipeline com pré-processamento, PCA e um modelo de classificação\n",
    "pipeline = Pipeline([\n",
    "    ('scaler', StandardScaler()),  # Pré-processamento: normalização dos dados\n",
    "    ('pca', PCA(n_components=2)),  # Redução de dimensionalidade: PCA\n",
    "    ('classifier', DecisionTreeClassifier(random_state=42))  # Modelo de classificação: Árvore de Decisão\n",
    "])"
   ]
  },
  {
   "cell_type": "code",
   "execution_count": 6,
   "metadata": {},
   "outputs": [
    {
     "name": "stdout",
     "output_type": "stream",
     "text": [
      "Acurácia em cada fold da validação cruzada: [0.86666667 0.96666667 0.86666667 0.76666667 1.        ]\n",
      "Acurácia média: 0.8933333333333333\n"
     ]
    }
   ],
   "source": [
    "# 3. Avaliar o pipeline com validação cruzada (5-fold)\n",
    "scores = cross_val_score(pipeline, X, y, cv=5)\n",
    "\n",
    "# Exibir os resultados\n",
    "print(\"Acurácia em cada fold da validação cruzada:\", scores)\n",
    "print(\"Acurácia média:\", np.mean(scores))"
   ]
  },
  {
   "cell_type": "code",
   "execution_count": null,
   "metadata": {},
   "outputs": [],
   "source": []
  }
 ],
 "metadata": {
  "kernelspec": {
   "display_name": ".venv",
   "language": "python",
   "name": "python3"
  },
  "language_info": {
   "codemirror_mode": {
    "name": "ipython",
    "version": 3
   },
   "file_extension": ".py",
   "mimetype": "text/x-python",
   "name": "python",
   "nbconvert_exporter": "python",
   "pygments_lexer": "ipython3",
   "version": "3.12.6"
  }
 },
 "nbformat": 4,
 "nbformat_minor": 2
}
