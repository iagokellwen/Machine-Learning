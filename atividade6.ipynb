{
 "cells": [
  {
   "cell_type": "markdown",
   "metadata": {},
   "source": [
    "Sistemas de Recomendação: Filtragem Baseada em Conteúdo\n",
    "o\tImplemente um sistema de recomendação baseado em conteúdo usando um conjunto de dados de produtos (como artigos de e-commerce). "
   ]
  },
  {
   "cell_type": "code",
   "execution_count": 2,
   "metadata": {},
   "outputs": [],
   "source": [
    "import pandas as pd\n",
    "from sklearn.feature_extraction.text import TfidfVectorizer\n",
    "from sklearn.metrics.pairwise import cosine_similarity"
   ]
  },
  {
   "cell_type": "code",
   "execution_count": 5,
   "metadata": {},
   "outputs": [
    {
     "data": {
      "text/html": [
       "<div>\n",
       "<style scoped>\n",
       "    .dataframe tbody tr th:only-of-type {\n",
       "        vertical-align: middle;\n",
       "    }\n",
       "\n",
       "    .dataframe tbody tr th {\n",
       "        vertical-align: top;\n",
       "    }\n",
       "\n",
       "    .dataframe thead th {\n",
       "        text-align: right;\n",
       "    }\n",
       "</style>\n",
       "<table border=\"1\" class=\"dataframe\">\n",
       "  <thead>\n",
       "    <tr style=\"text-align: right;\">\n",
       "      <th></th>\n",
       "      <th>product_id</th>\n",
       "      <th>product_name</th>\n",
       "      <th>description</th>\n",
       "    </tr>\n",
       "  </thead>\n",
       "  <tbody>\n",
       "    <tr>\n",
       "      <th>0</th>\n",
       "      <td>1</td>\n",
       "      <td>Camiseta Azul</td>\n",
       "      <td>Camiseta 100% algodão azul, ideal para o verão.</td>\n",
       "    </tr>\n",
       "    <tr>\n",
       "      <th>1</th>\n",
       "      <td>2</td>\n",
       "      <td>Camiseta Verde</td>\n",
       "      <td>Camiseta leve verde, perfeita para atividades ...</td>\n",
       "    </tr>\n",
       "    <tr>\n",
       "      <th>2</th>\n",
       "      <td>3</td>\n",
       "      <td>Calça Jeans</td>\n",
       "      <td>Calça jeans com corte reto e confortável.</td>\n",
       "    </tr>\n",
       "    <tr>\n",
       "      <th>3</th>\n",
       "      <td>4</td>\n",
       "      <td>Jaqueta de Couro</td>\n",
       "      <td>Jaqueta de couro sintético, estilosa e resiste...</td>\n",
       "    </tr>\n",
       "    <tr>\n",
       "      <th>4</th>\n",
       "      <td>5</td>\n",
       "      <td>Camiseta Branca</td>\n",
       "      <td>Camiseta branca básica, fácil de combinar.</td>\n",
       "    </tr>\n",
       "  </tbody>\n",
       "</table>\n",
       "</div>"
      ],
      "text/plain": [
       "   product_id      product_name  \\\n",
       "0           1     Camiseta Azul   \n",
       "1           2    Camiseta Verde   \n",
       "2           3       Calça Jeans   \n",
       "3           4  Jaqueta de Couro   \n",
       "4           5   Camiseta Branca   \n",
       "\n",
       "                                         description  \n",
       "0    Camiseta 100% algodão azul, ideal para o verão.  \n",
       "1  Camiseta leve verde, perfeita para atividades ...  \n",
       "2          Calça jeans com corte reto e confortável.  \n",
       "3  Jaqueta de couro sintético, estilosa e resiste...  \n",
       "4         Camiseta branca básica, fácil de combinar.  "
      ]
     },
     "metadata": {},
     "output_type": "display_data"
    }
   ],
   "source": [
    "# 1. Carregar o conjunto de dados (exemplo fictício)\n",
    "data = {\n",
    "    'product_id': [1, 2, 3, 4, 5],\n",
    "    'product_name': [\n",
    "        'Camiseta Azul',\n",
    "        'Camiseta Verde',\n",
    "        'Calça Jeans',\n",
    "        'Jaqueta de Couro',\n",
    "        'Camiseta Branca'\n",
    "    ],\n",
    "    'description': [\n",
    "        'Camiseta 100% algodão azul, ideal para o verão.',\n",
    "        'Camiseta leve verde, perfeita para atividades ao ar livre.',\n",
    "        'Calça jeans com corte reto e confortável.',\n",
    "        'Jaqueta de couro sintético, estilosa e resistente.',\n",
    "        'Camiseta branca básica, fácil de combinar.'\n",
    "    ]\n",
    "}\n",
    "\n",
    "products = pd.DataFrame(data)\n",
    "display(products)"
   ]
  },
  {
   "cell_type": "code",
   "execution_count": 6,
   "metadata": {},
   "outputs": [],
   "source": [
    "# 2. Pré-processamento\n",
    "# Usar TF-IDF para transformar as descrições em um formato que o modelo pode usar\n",
    "tfidf = TfidfVectorizer(stop_words='english')\n",
    "tfidf_matrix = tfidf.fit_transform(products['description'])"
   ]
  },
  {
   "cell_type": "code",
   "execution_count": 7,
   "metadata": {},
   "outputs": [],
   "source": [
    "# 3. Calcular a Similaridade\n",
    "cosine_sim = cosine_similarity(tfidf_matrix, tfidf_matrix)"
   ]
  },
  {
   "cell_type": "code",
   "execution_count": 8,
   "metadata": {},
   "outputs": [],
   "source": [
    "# Função para recomendar produtos semelhantes\n",
    "def get_recommendations(product_name, num_recommendations=3):\n",
    "    # Obter o índice do produto\n",
    "    idx = products[products['product_name'] == product_name].index[0]\n",
    "    \n",
    "    # Obter as similaridades\n",
    "    sim_scores = list(enumerate(cosine_sim[idx]))\n",
    "    \n",
    "    # Ordenar os produtos com base na similaridade\n",
    "    sim_scores = sorted(sim_scores, key=lambda x: x[1], reverse=True)\n",
    "    \n",
    "    # Obter os índices dos produtos mais semelhantes\n",
    "    sim_scores = sim_scores[1:num_recommendations + 1]  # Exclui o próprio produto\n",
    "    product_indices = [i[0] for i in sim_scores]\n",
    "    \n",
    "    # Retornar os produtos recomendados\n",
    "    return products.iloc[product_indices]"
   ]
  },
  {
   "cell_type": "code",
   "execution_count": 9,
   "metadata": {},
   "outputs": [
    {
     "name": "stdout",
     "output_type": "stream",
     "text": [
      "Produtos recomendados para 'Camiseta Azul':\n",
      "      product_name                                        description\n",
      "1   Camiseta Verde  Camiseta leve verde, perfeita para atividades ...\n",
      "4  Camiseta Branca         Camiseta branca básica, fácil de combinar.\n",
      "2      Calça Jeans          Calça jeans com corte reto e confortável.\n"
     ]
    }
   ],
   "source": [
    "# Testar as recomendações\n",
    "recommended_products = get_recommendations('Camiseta Azul')\n",
    "print(\"Produtos recomendados para 'Camiseta Azul':\")\n",
    "print(recommended_products[['product_name', 'description']])"
   ]
  },
  {
   "cell_type": "code",
   "execution_count": null,
   "metadata": {},
   "outputs": [],
   "source": []
  }
 ],
 "metadata": {
  "kernelspec": {
   "display_name": ".venv",
   "language": "python",
   "name": "python3"
  },
  "language_info": {
   "codemirror_mode": {
    "name": "ipython",
    "version": 3
   },
   "file_extension": ".py",
   "mimetype": "text/x-python",
   "name": "python",
   "nbconvert_exporter": "python",
   "pygments_lexer": "ipython3",
   "version": "3.12.6"
  }
 },
 "nbformat": 4,
 "nbformat_minor": 2
}
